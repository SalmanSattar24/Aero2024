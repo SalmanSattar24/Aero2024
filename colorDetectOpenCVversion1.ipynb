{
 "cells": [
  {
   "cell_type": "code",
   "execution_count": 6,
   "metadata": {},
   "outputs": [],
   "source": [
    "import numpy as np\n",
    "import cv2\n",
    "from PIL import Image"
   ]
  },
  {
   "cell_type": "code",
   "execution_count": 7,
   "metadata": {},
   "outputs": [],
   "source": [
    "def get_limits(color):\n",
    "    c = np.uint8([[color]]) # here insert the bgr values which you want to convert to hsv\n",
    "    hsv_color = cv2.cvtColor(c,cv2.COLOR_BGR2HSV)\n",
    "    \n",
    "    lower_limit = hsv_color[0][0][0] - 10, 100, 100\n",
    "    upper_limit = hsv_color[0][0][0] + 10, 255, 255\n",
    "    \n",
    "    lower_limit = np.array(lower_limit, dtype=np.uint8)\n",
    "    upper_limit = np.array(upper_limit, dtype=np.uint8)\n",
    "    \n",
    "    return lower_limit, upper_limit\n"
   ]
  },
  {
   "cell_type": "code",
   "execution_count": 8,
   "metadata": {},
   "outputs": [],
   "source": [
    "# Blue color in BGR color space\n",
    "# This color can be changed as per requirement\n",
    "blue = [255,0,0] \n",
    "red = [0,0,255]\n",
    "green = [0,255,0]\n",
    "yellow = [0,255,255]\n",
    "orange = [0,165,255]\n",
    "pink = [255,0,255]\n",
    "purple = [128,0,128]\n",
    "brown = [165,42,42]\n",
    "black = [0,0,0]\n",
    "white = [255,255,255]\n",
    "# Change the color in line 21 to detect the color of your choice\n",
    "\n",
    "cap = cv2.VideoCapture(0)\n",
    "\n",
    "while True:\n",
    "    ret, frame = cap.read()\n",
    "    \n",
    "    hsvImage = cv2.cvtColor(frame,cv2.COLOR_BGR2HSV)\n",
    "    \n",
    "    lower_limit,upper_limit = get_limits(color=green) # Change the color here to detect the color of your choice\n",
    "    mask = cv2.inRange(hsvImage,lower_limit,upper_limit)\n",
    "    \n",
    "    maskPillow = Image.fromarray(mask)\n",
    "    boundingBox = maskPillow.getbbox()\n",
    "    \n",
    "    if boundingBox is not None:\n",
    "        x1,y1,x2,y2 = boundingBox\n",
    "        frame = cv2.rectangle(frame,(x1,y1),(x2,y2),(0,255,0),3)\n",
    "    \n",
    "    cv2.imshow('frame', frame)\n",
    "    \n",
    "    if cv2.waitKey(1) & 0xFF == ord('q'):\n",
    "        break\n",
    "\n",
    "cap.release()\n",
    "cv2.destroyAllWindows()  "
   ]
  },
  {
   "cell_type": "code",
   "execution_count": null,
   "metadata": {},
   "outputs": [],
   "source": []
  }
 ],
 "metadata": {
  "kernelspec": {
   "display_name": "YOLO8RedCircles",
   "language": "python",
   "name": "python3"
  },
  "language_info": {
   "codemirror_mode": {
    "name": "ipython",
    "version": 3
   },
   "file_extension": ".py",
   "mimetype": "text/x-python",
   "name": "python",
   "nbconvert_exporter": "python",
   "pygments_lexer": "ipython3",
   "version": "3.11.4"
  },
  "orig_nbformat": 4
 },
 "nbformat": 4,
 "nbformat_minor": 2
}
